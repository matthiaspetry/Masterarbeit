{
 "cells": [
  {
   "cell_type": "code",
   "execution_count": 1,
   "id": "8a8e9f27",
   "metadata": {},
   "outputs": [],
   "source": [
    "import sys\n",
    "\n",
    "# Add the folder to the system path\n",
    "sys.path.append('/Users/matthiaspetry/Desktop/Masterarbeit/URE/')\n",
    "\n",
    "# Load the module\n",
    "import URBasic"
   ]
  },
  {
   "cell_type": "code",
   "execution_count": 12,
   "id": "a8079b82",
   "metadata": {},
   "outputs": [],
   "source": [
    "'''\n",
    "Python 3.x library to control an UR robot through its TCP/IP interfaces\n",
    "Copyright (C) 2017  Martin Huus Bjerge, Rope Robotics ApS, Denmark\n",
    "\n",
    "Permission is hereby granted, free of charge, to any person obtaining a copy of this software \n",
    "and associated documentation files (the \"Software\"), to deal in the Software without restriction, \n",
    "including without limitation the rights to use, copy, modify, merge, publish, distribute, \n",
    "sublicense, and/or sell copies of the Software, and to permit persons to whom the Software \n",
    "is furnished to do so, subject to the following conditions:\n",
    "\n",
    "The above copyright notice and this permission notice shall be included in all copies \n",
    "or substantial portions of the Software.\n",
    "\n",
    "THE SOFTWARE IS PROVIDED \"AS IS\", WITHOUT WARRANTY OF ANY KIND, EXPRESS OR IMPLIED, \n",
    "INCLUDING BUT NOT LIMITED TO THE WARRANTIES OF MERCHANTABILITY, FITNESS FOR A PARTICULAR \n",
    "PURPOSE AND NONINFRINGEMENT. IN NO EVENT SHALL \"Rope Robotics ApS\" BE LIABLE FOR ANY CLAIM, \n",
    "DAMAGES OR OTHER LIABILITY, WHETHER IN AN ACTION OF CONTRACT, TORT OR OTHERWISE, ARISING FROM, \n",
    "OUT OF OR IN CONNECTION WITH THE SOFTWARE OR THE USE OR OTHER DEALINGS IN THE SOFTWARE.\n",
    "\n",
    "Except as contained in this notice, the name of \"Rope Robotics ApS\" shall not be used \n",
    "in advertising or otherwise to promote the sale, use or other dealings in this Software \n",
    "without prior written authorization from \"Rope Robotics ApS\".\n",
    "\n",
    "'''\n",
    "\n",
    "__author__ = \"Martin Huus Bjerge\"\n",
    "__copyright__ = \"Copyright 2017, Rope Robotics ApS, Denmark\"\n",
    "__license__ = \"MIT License\"\n",
    "\n",
    "import URBasic\n",
    "import time\n",
    "\n",
    "\n",
    "host = '192.168.188.32'   #E.g. a Universal Robot offline simulator, please adjust to match your IP\n",
    "acc = 0.1\n",
    "vel = 0.5\n",
    "\n",
    "\n",
    "def Move2Position():\n",
    "    '''\n",
    "    This is a small example of how to connect to a Universal Robots robot and use a few simple script commands. \n",
    "    The scrips available is in general all the scrips from the universal robot script manual, \n",
    "    and the implementation is intended to follow the Universal Robots manual as much as possible.  \n",
    "    \n",
    "    This script can be run connected to a Universal Robot robot (tested at a UR5) or a Universal Robot offline simulator. \n",
    "    See this example in how to setup an offline simulator: \n",
    "    https://www.universal-robots.com/download/?option=26266#section16597\n",
    "    '''\n",
    "    robotModle = URBasic.robotModel.RobotModel()\n",
    "    robot = URBasic.urScriptExt.UrScriptExt(host=host,robotModel=robotModle)\n",
    "    robot.reset_error()\n",
    "    print('Move to Position')\n",
    "    robot.movej(q=[-3.14,-1.,0.5, -1.,-1.5,0], a=acc, v=vel)\n",
    "\n",
    "            \n",
    "    time.sleep(1)\n",
    "    robot.end_force_mode()\n",
    "    robot.close()\n",
    "\n",
    "def Move2BasePosition():\n",
    "    '''\n",
    "    This is an example of an extension to the Universal Robot script library. \n",
    "    How to update the force parameters remote via the RTDE interface, \n",
    "    hence without sending new programs to the controller.\n",
    "    This enables to update force \"realtime\" (125Hz)  \n",
    "    '''\n",
    "    robotModle = URBasic.robotModel.RobotModel()\n",
    "    robot = URBasic.urScriptExt.UrScriptExt(host=host,robotModel=robotModle)\n",
    "\n",
    "    print('Move to Base Position')\n",
    "    robot.movej(q=[0.0000,-1.5708,-0.0000,-1.5708,-0.0000,0.0000], a=acc, v=vel)\n",
    "    \n",
    "    robot.end_force_mode()\n",
    "    robot.reset_error()\n",
    "    robot.close()    "
   ]
  },
  {
   "cell_type": "code",
   "execution_count": 15,
   "id": "682d54d2",
   "metadata": {},
   "outputs": [
    {
     "name": "stderr",
     "output_type": "stream",
     "text": [
      "2023-11-06 13:56:24,482 - URBasic_robotModelEvent - INFO - Init done\n",
      "2023-11-06 13:56:24,991 - URBasic_dataLogEvent - INFO - DataLog constructor done\n",
      "2023-11-06 13:56:25,504 - URBasic_dashboardEvent - INFO - Connected\n",
      "2023-11-06 13:56:25,507 - URBasic_dashboardEvent - INFO - UR Dashboard respond Connected: Universal Robots Dashboard Server\n",
      "2023-11-06 13:56:25,510 - URBasic_dashboardEvent - INFO - Dashboard server constructor done\n",
      "2023-11-06 13:56:25,512 - URBasic_robotConnectorEvent - INFO - Init done\n"
     ]
    },
    {
     "name": "stdout",
     "output_type": "stream",
     "text": [
      "waiting for everything to be ready\n"
     ]
    },
    {
     "name": "stderr",
     "output_type": "stream",
     "text": [
      "2023-11-06 13:56:26,514 - URBasic_urScriptEvent - INFO - Init done\n",
      "2023-11-06 13:56:26,530 - URBasic_urScriptExtEvent - INFO - Init done\n"
     ]
    },
    {
     "name": "stdout",
     "output_type": "stream",
     "text": [
      "Robot Pose: [ 0.3860,  0.1490,  0.2095,    2.2162, -2.2160, -0.1541]\n",
      "Robot joint positions: [-3.1400, -1.0000,  0.4999,   -0.9999, -1.4999, -0.0000]\n",
      "Move to Base Position\n"
     ]
    },
    {
     "name": "stderr",
     "output_type": "stream",
     "text": [
      "2023-11-06 13:56:38,281 - URBasic_dataLogEvent - INFO - DataLog is stopped\n"
     ]
    },
    {
     "name": "stdout",
     "output_type": "stream",
     "text": [
      "Robot Pose: [-0.0002, -0.3764,  0.6926,   -0.0002, -2.2257,  2.2171]\n",
      "Robot joint positions: [-0.0000, -1.5708,  0.0000,   -1.5708, -0.0000,  0.0000]\n"
     ]
    },
    {
     "name": "stderr",
     "output_type": "stream",
     "text": [
      "2023-11-06 13:56:39,529 - URBasic_dashboardEvent - INFO - Dashboard server interface is stopped\n"
     ]
    }
   ],
   "source": [
    "Move2BasePosition()"
   ]
  },
  {
   "cell_type": "code",
   "execution_count": 14,
   "id": "38c3e6be",
   "metadata": {},
   "outputs": [
    {
     "name": "stderr",
     "output_type": "stream",
     "text": [
      "2023-11-06 13:56:07,722 - URBasic_robotModelEvent - INFO - Init done\n",
      "2023-11-06 13:56:08,231 - URBasic_dataLogEvent - INFO - DataLog constructor done\n",
      "2023-11-06 13:56:08,741 - URBasic_dashboardEvent - INFO - Connected\n",
      "2023-11-06 13:56:08,745 - URBasic_dashboardEvent - INFO - UR Dashboard respond Connected: Universal Robots Dashboard Server\n",
      "2023-11-06 13:56:08,747 - URBasic_dashboardEvent - INFO - Dashboard server constructor done\n",
      "2023-11-06 13:56:08,749 - URBasic_robotConnectorEvent - INFO - Init done\n"
     ]
    },
    {
     "name": "stdout",
     "output_type": "stream",
     "text": [
      "waiting for everything to be ready\n"
     ]
    },
    {
     "name": "stderr",
     "output_type": "stream",
     "text": [
      "2023-11-06 13:56:09,754 - URBasic_urScriptEvent - INFO - Init done\n",
      "2023-11-06 13:56:09,768 - URBasic_urScriptExtEvent - INFO - Init done\n"
     ]
    },
    {
     "name": "stdout",
     "output_type": "stream",
     "text": [
      "Robot Pose: [-0.0002, -0.3764,  0.6926,   -0.0004, -2.2257,  2.2171]\n",
      "Robot joint positions: [-0.0001, -1.5707,  0.0000,   -1.5708,  0.0000,  0.0000]\n",
      "Move to Position\n"
     ]
    },
    {
     "name": "stderr",
     "output_type": "stream",
     "text": [
      "2023-11-06 13:56:22,561 - URBasic_dataLogEvent - INFO - DataLog is stopped\n"
     ]
    },
    {
     "name": "stdout",
     "output_type": "stream",
     "text": [
      "Robot Pose: [ 0.3860,  0.1490,  0.2095,    2.2162, -2.2160, -0.1542]\n",
      "Robot joint positions: [-3.1400, -1.0000,  0.5000,   -1.0000, -1.5000,  0.0000]\n"
     ]
    },
    {
     "name": "stderr",
     "output_type": "stream",
     "text": [
      "2023-11-06 13:56:22,770 - URBasic_dashboardEvent - INFO - Dashboard server interface is stopped\n"
     ]
    }
   ],
   "source": [
    "Move2Position()"
   ]
  },
  {
   "cell_type": "code",
   "execution_count": null,
   "id": "83198f4a",
   "metadata": {},
   "outputs": [],
   "source": []
  }
 ],
 "metadata": {
  "kernelspec": {
   "display_name": "Python 3 (ipykernel)",
   "language": "python",
   "name": "python3"
  },
  "language_info": {
   "codemirror_mode": {
    "name": "ipython",
    "version": 3
   },
   "file_extension": ".py",
   "mimetype": "text/x-python",
   "name": "python",
   "nbconvert_exporter": "python",
   "pygments_lexer": "ipython3",
   "version": "3.9.7"
  }
 },
 "nbformat": 4,
 "nbformat_minor": 5
}
